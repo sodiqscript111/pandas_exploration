{
 "cells": [
  {
   "metadata": {
    "ExecuteTime": {
     "end_time": "2025-09-02T13:00:42.025811Z",
     "start_time": "2025-09-02T13:00:36.360213Z"
    }
   },
   "cell_type": "code",
   "source": [
    "import pandas as pd\n",
    "df1 = pd.read_json(r\"C:\\Users\\Owner\\PycharmProjects\\MySpotifyDataEploration\\data\\Spotify Account Data\\StreamingHistory_music_0.json\")\n",
    "df2 = pd.read_json(r\"C:\\Users\\Owner\\PycharmProjects\\MySpotifyDataEploration\\data\\Spotify Account Data\\StreamingHistory_music_1.json\")\n",
    "df0 = pd.read_json(r\"C:\\Users\\Owner\\PycharmProjects\\MySpotifyDataEploration\\data\\Spotify Account Data\\StreamingHistory_music_2.json\")\n",
    "df3 = pd.read_json(r\"C:\\Users\\Owner\\PycharmProjects\\MySpotifyDataEploration\\data\\Spotify Account Data\\StreamingHistory_music_3.json\")\n",
    "\n",
    "spotify_data = pd.concat([df1, df2, df3, df0], ignore_index=True)"
   ],
   "id": "fbc121e30a2defb3",
   "outputs": [],
   "execution_count": 1
  },
  {
   "metadata": {
    "ExecuteTime": {
     "end_time": "2025-09-02T13:00:42.166634Z",
     "start_time": "2025-09-02T13:00:42.113953Z"
    }
   },
   "cell_type": "code",
   "source": [
    "#first ten\n",
    "spotify_data.head(10)"
   ],
   "id": "2f511b8875f6dad9",
   "outputs": [
    {
     "data": {
      "text/plain": [
       "            endTime      artistName                              trackName  \\\n",
       "0  2024-08-29 21:09      Lil Yachty  Just How I'm Feelin' (feat. Lil Baby)   \n",
       "1  2024-08-30 08:32           BNYX®           GO AGAIN (feat. Superheaven)   \n",
       "2  2024-08-30 08:38  Kendrick Lamar                            Not Like Us   \n",
       "3  2024-08-30 08:41  Kendrick Lamar                                A.D.H.D   \n",
       "4  2024-08-30 08:45      The Weeknd                            Pray For Me   \n",
       "5  2024-08-30 08:49  Kendrick Lamar                                 PRIDE.   \n",
       "6  2024-08-30 08:51        Skrillex               HUMBLE. - SKRILLEX REMIX   \n",
       "7  2024-08-30 08:56  Kendrick Lamar                            These Walls   \n",
       "8  2024-08-30 09:03  Kendrick Lamar                        Wesley's Theory   \n",
       "9  2024-08-30 09:07  Kendrick Lamar                             King Kunta   \n",
       "\n",
       "   msPlayed  \n",
       "0      1243  \n",
       "1     70794  \n",
       "2    274192  \n",
       "3    215509  \n",
       "4    211420  \n",
       "5    275253  \n",
       "6     99490  \n",
       "7    300973  \n",
       "8    287360  \n",
       "9    234693  "
      ],
      "text/html": [
       "<div>\n",
       "<style scoped>\n",
       "    .dataframe tbody tr th:only-of-type {\n",
       "        vertical-align: middle;\n",
       "    }\n",
       "\n",
       "    .dataframe tbody tr th {\n",
       "        vertical-align: top;\n",
       "    }\n",
       "\n",
       "    .dataframe thead th {\n",
       "        text-align: right;\n",
       "    }\n",
       "</style>\n",
       "<table border=\"1\" class=\"dataframe\">\n",
       "  <thead>\n",
       "    <tr style=\"text-align: right;\">\n",
       "      <th></th>\n",
       "      <th>endTime</th>\n",
       "      <th>artistName</th>\n",
       "      <th>trackName</th>\n",
       "      <th>msPlayed</th>\n",
       "    </tr>\n",
       "  </thead>\n",
       "  <tbody>\n",
       "    <tr>\n",
       "      <th>0</th>\n",
       "      <td>2024-08-29 21:09</td>\n",
       "      <td>Lil Yachty</td>\n",
       "      <td>Just How I'm Feelin' (feat. Lil Baby)</td>\n",
       "      <td>1243</td>\n",
       "    </tr>\n",
       "    <tr>\n",
       "      <th>1</th>\n",
       "      <td>2024-08-30 08:32</td>\n",
       "      <td>BNYX®</td>\n",
       "      <td>GO AGAIN (feat. Superheaven)</td>\n",
       "      <td>70794</td>\n",
       "    </tr>\n",
       "    <tr>\n",
       "      <th>2</th>\n",
       "      <td>2024-08-30 08:38</td>\n",
       "      <td>Kendrick Lamar</td>\n",
       "      <td>Not Like Us</td>\n",
       "      <td>274192</td>\n",
       "    </tr>\n",
       "    <tr>\n",
       "      <th>3</th>\n",
       "      <td>2024-08-30 08:41</td>\n",
       "      <td>Kendrick Lamar</td>\n",
       "      <td>A.D.H.D</td>\n",
       "      <td>215509</td>\n",
       "    </tr>\n",
       "    <tr>\n",
       "      <th>4</th>\n",
       "      <td>2024-08-30 08:45</td>\n",
       "      <td>The Weeknd</td>\n",
       "      <td>Pray For Me</td>\n",
       "      <td>211420</td>\n",
       "    </tr>\n",
       "    <tr>\n",
       "      <th>5</th>\n",
       "      <td>2024-08-30 08:49</td>\n",
       "      <td>Kendrick Lamar</td>\n",
       "      <td>PRIDE.</td>\n",
       "      <td>275253</td>\n",
       "    </tr>\n",
       "    <tr>\n",
       "      <th>6</th>\n",
       "      <td>2024-08-30 08:51</td>\n",
       "      <td>Skrillex</td>\n",
       "      <td>HUMBLE. - SKRILLEX REMIX</td>\n",
       "      <td>99490</td>\n",
       "    </tr>\n",
       "    <tr>\n",
       "      <th>7</th>\n",
       "      <td>2024-08-30 08:56</td>\n",
       "      <td>Kendrick Lamar</td>\n",
       "      <td>These Walls</td>\n",
       "      <td>300973</td>\n",
       "    </tr>\n",
       "    <tr>\n",
       "      <th>8</th>\n",
       "      <td>2024-08-30 09:03</td>\n",
       "      <td>Kendrick Lamar</td>\n",
       "      <td>Wesley's Theory</td>\n",
       "      <td>287360</td>\n",
       "    </tr>\n",
       "    <tr>\n",
       "      <th>9</th>\n",
       "      <td>2024-08-30 09:07</td>\n",
       "      <td>Kendrick Lamar</td>\n",
       "      <td>King Kunta</td>\n",
       "      <td>234693</td>\n",
       "    </tr>\n",
       "  </tbody>\n",
       "</table>\n",
       "</div>"
      ]
     },
     "execution_count": 2,
     "metadata": {},
     "output_type": "execute_result"
    }
   ],
   "execution_count": 2
  },
  {
   "metadata": {
    "ExecuteTime": {
     "end_time": "2025-09-02T13:00:44.008867Z",
     "start_time": "2025-09-02T13:00:43.921662Z"
    }
   },
   "cell_type": "code",
   "source": "spotify_data.info()",
   "id": "58cee97d55cd17f3",
   "outputs": [
    {
     "name": "stdout",
     "output_type": "stream",
     "text": [
      "<class 'pandas.core.frame.DataFrame'>\n",
      "RangeIndex: 30446 entries, 0 to 30445\n",
      "Data columns (total 4 columns):\n",
      " #   Column      Non-Null Count  Dtype \n",
      "---  ------      --------------  ----- \n",
      " 0   endTime     30446 non-null  object\n",
      " 1   artistName  30446 non-null  object\n",
      " 2   trackName   30446 non-null  object\n",
      " 3   msPlayed    30446 non-null  int64 \n",
      "dtypes: int64(1), object(3)\n",
      "memory usage: 951.6+ KB\n"
     ]
    }
   ],
   "execution_count": 3
  },
  {
   "metadata": {
    "ExecuteTime": {
     "end_time": "2025-09-02T13:00:59.075Z",
     "start_time": "2025-09-02T13:00:59.010195Z"
    }
   },
   "cell_type": "code",
   "source": "spotify_data.describe()",
   "id": "561f48e5d99f9f66",
   "outputs": [
    {
     "data": {
      "text/plain": [
       "           msPlayed\n",
       "count  3.044600e+04\n",
       "mean   1.495104e+05\n",
       "std    1.034776e+05\n",
       "min    0.000000e+00\n",
       "25%    5.851550e+04\n",
       "50%    1.618155e+05\n",
       "75%    2.124500e+05\n",
       "max    1.669648e+06"
      ],
      "text/html": [
       "<div>\n",
       "<style scoped>\n",
       "    .dataframe tbody tr th:only-of-type {\n",
       "        vertical-align: middle;\n",
       "    }\n",
       "\n",
       "    .dataframe tbody tr th {\n",
       "        vertical-align: top;\n",
       "    }\n",
       "\n",
       "    .dataframe thead th {\n",
       "        text-align: right;\n",
       "    }\n",
       "</style>\n",
       "<table border=\"1\" class=\"dataframe\">\n",
       "  <thead>\n",
       "    <tr style=\"text-align: right;\">\n",
       "      <th></th>\n",
       "      <th>msPlayed</th>\n",
       "    </tr>\n",
       "  </thead>\n",
       "  <tbody>\n",
       "    <tr>\n",
       "      <th>count</th>\n",
       "      <td>3.044600e+04</td>\n",
       "    </tr>\n",
       "    <tr>\n",
       "      <th>mean</th>\n",
       "      <td>1.495104e+05</td>\n",
       "    </tr>\n",
       "    <tr>\n",
       "      <th>std</th>\n",
       "      <td>1.034776e+05</td>\n",
       "    </tr>\n",
       "    <tr>\n",
       "      <th>min</th>\n",
       "      <td>0.000000e+00</td>\n",
       "    </tr>\n",
       "    <tr>\n",
       "      <th>25%</th>\n",
       "      <td>5.851550e+04</td>\n",
       "    </tr>\n",
       "    <tr>\n",
       "      <th>50%</th>\n",
       "      <td>1.618155e+05</td>\n",
       "    </tr>\n",
       "    <tr>\n",
       "      <th>75%</th>\n",
       "      <td>2.124500e+05</td>\n",
       "    </tr>\n",
       "    <tr>\n",
       "      <th>max</th>\n",
       "      <td>1.669648e+06</td>\n",
       "    </tr>\n",
       "  </tbody>\n",
       "</table>\n",
       "</div>"
      ]
     },
     "execution_count": 4,
     "metadata": {},
     "output_type": "execute_result"
    }
   ],
   "execution_count": 4
  },
  {
   "metadata": {
    "ExecuteTime": {
     "end_time": "2025-09-02T13:00:59.624264Z",
     "start_time": "2025-09-02T13:00:59.590302Z"
    }
   },
   "cell_type": "code",
   "source": "spotify_data.isna().sum()",
   "id": "e6c16f911ac30f75",
   "outputs": [
    {
     "data": {
      "text/plain": [
       "endTime       0\n",
       "artistName    0\n",
       "trackName     0\n",
       "msPlayed      0\n",
       "dtype: int64"
      ]
     },
     "execution_count": 5,
     "metadata": {},
     "output_type": "execute_result"
    }
   ],
   "execution_count": 5
  },
  {
   "metadata": {
    "ExecuteTime": {
     "end_time": "2025-09-02T13:01:00.272764Z",
     "start_time": "2025-09-02T13:01:00.247286Z"
    }
   },
   "cell_type": "code",
   "source": "spotify_data.groupby('artistName')['msPlayed'].sum().sort_values(ascending=False).head(20)",
   "id": "ede80c28d83a6759",
   "outputs": [
    {
     "data": {
      "text/plain": [
       "artistName\n",
       "Tyler, The Creator      358255301\n",
       "Drake                   230198858\n",
       "The Weeknd              144574784\n",
       "Yeat                    132173029\n",
       "Playboi Carti           130236158\n",
       "Kendrick Lamar          126912911\n",
       "PARTYNEXTDOOR           104706572\n",
       "TV Girl                  94146348\n",
       "Don Toliver              69651023\n",
       "Doja Cat                 65169733\n",
       "The Strokes              64898622\n",
       "Travis Scott             54384851\n",
       "Kali Uchis               51092062\n",
       "Cigarettes After Sex     47031522\n",
       "Kanye West               46325307\n",
       "Rema                     43058759\n",
       "Baby Keem                39184645\n",
       "Sade                     38650966\n",
       "Lil Yachty               37411306\n",
       "Faye Webster             37344497\n",
       "Name: msPlayed, dtype: int64"
      ]
     },
     "execution_count": 6,
     "metadata": {},
     "output_type": "execute_result"
    }
   ],
   "execution_count": 6
  },
  {
   "metadata": {
    "ExecuteTime": {
     "end_time": "2025-09-02T13:01:00.960037Z",
     "start_time": "2025-09-02T13:01:00.946122Z"
    }
   },
   "cell_type": "code",
   "source": "spotify_data['artistName'].count()",
   "id": "825f8e3c0aa579d1",
   "outputs": [
    {
     "data": {
      "text/plain": [
       "np.int64(30446)"
      ]
     },
     "execution_count": 7,
     "metadata": {},
     "output_type": "execute_result"
    }
   ],
   "execution_count": 7
  },
  {
   "metadata": {
    "ExecuteTime": {
     "end_time": "2025-09-02T13:01:01.705396Z",
     "start_time": "2025-09-02T13:01:01.693038Z"
    }
   },
   "cell_type": "code",
   "source": "spotify_data['msPlayed'].sum()",
   "id": "4e66cb14ed77d47e",
   "outputs": [
    {
     "data": {
      "text/plain": [
       "np.int64(4551993712)"
      ]
     },
     "execution_count": 8,
     "metadata": {},
     "output_type": "execute_result"
    }
   ],
   "execution_count": 8
  },
  {
   "metadata": {
    "ExecuteTime": {
     "end_time": "2025-09-02T13:01:02.309705Z",
     "start_time": "2025-09-02T13:01:02.109811Z"
    }
   },
   "cell_type": "code",
   "source": [
    "spotify_data['endTime'] = pd.to_datetime(spotify_data['endTime'])\n",
    "spotify_data"
   ],
   "id": "10b875ecf69c687a",
   "outputs": [
    {
     "data": {
      "text/plain": [
       "                  endTime      artistName  \\\n",
       "0     2024-08-29 21:09:00      Lil Yachty   \n",
       "1     2024-08-30 08:32:00           BNYX®   \n",
       "2     2024-08-30 08:38:00  Kendrick Lamar   \n",
       "3     2024-08-30 08:41:00  Kendrick Lamar   \n",
       "4     2024-08-30 08:45:00      The Weeknd   \n",
       "...                   ...             ...   \n",
       "30441 2025-08-28 17:56:00      The Weeknd   \n",
       "30442 2025-08-28 18:00:00      The Weeknd   \n",
       "30443 2025-08-28 18:00:00    Travis Scott   \n",
       "30444 2025-08-28 18:03:00     Post Malone   \n",
       "30445 2025-08-28 18:08:00      The Weeknd   \n",
       "\n",
       "                                   trackName  msPlayed  \n",
       "0      Just How I'm Feelin' (feat. Lil Baby)      1243  \n",
       "1               GO AGAIN (feat. Superheaven)     70794  \n",
       "2                                Not Like Us    274192  \n",
       "3                                    A.D.H.D    215509  \n",
       "4                                Pray For Me    211420  \n",
       "...                                      ...       ...  \n",
       "30441                               Gasoline    212165  \n",
       "30442                            Die For You    248936  \n",
       "30443                                  K-POP      4689  \n",
       "30444        One Right Now (with The Weeknd)    193506  \n",
       "30445                           Wicked Games    323746  \n",
       "\n",
       "[30446 rows x 4 columns]"
      ],
      "text/html": [
       "<div>\n",
       "<style scoped>\n",
       "    .dataframe tbody tr th:only-of-type {\n",
       "        vertical-align: middle;\n",
       "    }\n",
       "\n",
       "    .dataframe tbody tr th {\n",
       "        vertical-align: top;\n",
       "    }\n",
       "\n",
       "    .dataframe thead th {\n",
       "        text-align: right;\n",
       "    }\n",
       "</style>\n",
       "<table border=\"1\" class=\"dataframe\">\n",
       "  <thead>\n",
       "    <tr style=\"text-align: right;\">\n",
       "      <th></th>\n",
       "      <th>endTime</th>\n",
       "      <th>artistName</th>\n",
       "      <th>trackName</th>\n",
       "      <th>msPlayed</th>\n",
       "    </tr>\n",
       "  </thead>\n",
       "  <tbody>\n",
       "    <tr>\n",
       "      <th>0</th>\n",
       "      <td>2024-08-29 21:09:00</td>\n",
       "      <td>Lil Yachty</td>\n",
       "      <td>Just How I'm Feelin' (feat. Lil Baby)</td>\n",
       "      <td>1243</td>\n",
       "    </tr>\n",
       "    <tr>\n",
       "      <th>1</th>\n",
       "      <td>2024-08-30 08:32:00</td>\n",
       "      <td>BNYX®</td>\n",
       "      <td>GO AGAIN (feat. Superheaven)</td>\n",
       "      <td>70794</td>\n",
       "    </tr>\n",
       "    <tr>\n",
       "      <th>2</th>\n",
       "      <td>2024-08-30 08:38:00</td>\n",
       "      <td>Kendrick Lamar</td>\n",
       "      <td>Not Like Us</td>\n",
       "      <td>274192</td>\n",
       "    </tr>\n",
       "    <tr>\n",
       "      <th>3</th>\n",
       "      <td>2024-08-30 08:41:00</td>\n",
       "      <td>Kendrick Lamar</td>\n",
       "      <td>A.D.H.D</td>\n",
       "      <td>215509</td>\n",
       "    </tr>\n",
       "    <tr>\n",
       "      <th>4</th>\n",
       "      <td>2024-08-30 08:45:00</td>\n",
       "      <td>The Weeknd</td>\n",
       "      <td>Pray For Me</td>\n",
       "      <td>211420</td>\n",
       "    </tr>\n",
       "    <tr>\n",
       "      <th>...</th>\n",
       "      <td>...</td>\n",
       "      <td>...</td>\n",
       "      <td>...</td>\n",
       "      <td>...</td>\n",
       "    </tr>\n",
       "    <tr>\n",
       "      <th>30441</th>\n",
       "      <td>2025-08-28 17:56:00</td>\n",
       "      <td>The Weeknd</td>\n",
       "      <td>Gasoline</td>\n",
       "      <td>212165</td>\n",
       "    </tr>\n",
       "    <tr>\n",
       "      <th>30442</th>\n",
       "      <td>2025-08-28 18:00:00</td>\n",
       "      <td>The Weeknd</td>\n",
       "      <td>Die For You</td>\n",
       "      <td>248936</td>\n",
       "    </tr>\n",
       "    <tr>\n",
       "      <th>30443</th>\n",
       "      <td>2025-08-28 18:00:00</td>\n",
       "      <td>Travis Scott</td>\n",
       "      <td>K-POP</td>\n",
       "      <td>4689</td>\n",
       "    </tr>\n",
       "    <tr>\n",
       "      <th>30444</th>\n",
       "      <td>2025-08-28 18:03:00</td>\n",
       "      <td>Post Malone</td>\n",
       "      <td>One Right Now (with The Weeknd)</td>\n",
       "      <td>193506</td>\n",
       "    </tr>\n",
       "    <tr>\n",
       "      <th>30445</th>\n",
       "      <td>2025-08-28 18:08:00</td>\n",
       "      <td>The Weeknd</td>\n",
       "      <td>Wicked Games</td>\n",
       "      <td>323746</td>\n",
       "    </tr>\n",
       "  </tbody>\n",
       "</table>\n",
       "<p>30446 rows × 4 columns</p>\n",
       "</div>"
      ]
     },
     "execution_count": 9,
     "metadata": {},
     "output_type": "execute_result"
    }
   ],
   "execution_count": 9
  },
  {
   "metadata": {
    "ExecuteTime": {
     "end_time": "2025-09-02T13:01:02.965860Z",
     "start_time": "2025-09-02T13:01:02.858498Z"
    }
   },
   "cell_type": "code",
   "source": [
    "spotify_data[\"year\"] = spotify_data[\"endTime\"].dt.year\n",
    "spotify_data[\"month\"] = spotify_data[\"endTime\"].dt.month\n",
    "spotify_data[\"day\"] = spotify_data[\"endTime\"].dt.day\n",
    "spotify_data"
   ],
   "id": "5f60b0bffc99afe5",
   "outputs": [
    {
     "data": {
      "text/plain": [
       "                  endTime      artistName  \\\n",
       "0     2024-08-29 21:09:00      Lil Yachty   \n",
       "1     2024-08-30 08:32:00           BNYX®   \n",
       "2     2024-08-30 08:38:00  Kendrick Lamar   \n",
       "3     2024-08-30 08:41:00  Kendrick Lamar   \n",
       "4     2024-08-30 08:45:00      The Weeknd   \n",
       "...                   ...             ...   \n",
       "30441 2025-08-28 17:56:00      The Weeknd   \n",
       "30442 2025-08-28 18:00:00      The Weeknd   \n",
       "30443 2025-08-28 18:00:00    Travis Scott   \n",
       "30444 2025-08-28 18:03:00     Post Malone   \n",
       "30445 2025-08-28 18:08:00      The Weeknd   \n",
       "\n",
       "                                   trackName  msPlayed  year  month  day  \n",
       "0      Just How I'm Feelin' (feat. Lil Baby)      1243  2024      8   29  \n",
       "1               GO AGAIN (feat. Superheaven)     70794  2024      8   30  \n",
       "2                                Not Like Us    274192  2024      8   30  \n",
       "3                                    A.D.H.D    215509  2024      8   30  \n",
       "4                                Pray For Me    211420  2024      8   30  \n",
       "...                                      ...       ...   ...    ...  ...  \n",
       "30441                               Gasoline    212165  2025      8   28  \n",
       "30442                            Die For You    248936  2025      8   28  \n",
       "30443                                  K-POP      4689  2025      8   28  \n",
       "30444        One Right Now (with The Weeknd)    193506  2025      8   28  \n",
       "30445                           Wicked Games    323746  2025      8   28  \n",
       "\n",
       "[30446 rows x 7 columns]"
      ],
      "text/html": [
       "<div>\n",
       "<style scoped>\n",
       "    .dataframe tbody tr th:only-of-type {\n",
       "        vertical-align: middle;\n",
       "    }\n",
       "\n",
       "    .dataframe tbody tr th {\n",
       "        vertical-align: top;\n",
       "    }\n",
       "\n",
       "    .dataframe thead th {\n",
       "        text-align: right;\n",
       "    }\n",
       "</style>\n",
       "<table border=\"1\" class=\"dataframe\">\n",
       "  <thead>\n",
       "    <tr style=\"text-align: right;\">\n",
       "      <th></th>\n",
       "      <th>endTime</th>\n",
       "      <th>artistName</th>\n",
       "      <th>trackName</th>\n",
       "      <th>msPlayed</th>\n",
       "      <th>year</th>\n",
       "      <th>month</th>\n",
       "      <th>day</th>\n",
       "    </tr>\n",
       "  </thead>\n",
       "  <tbody>\n",
       "    <tr>\n",
       "      <th>0</th>\n",
       "      <td>2024-08-29 21:09:00</td>\n",
       "      <td>Lil Yachty</td>\n",
       "      <td>Just How I'm Feelin' (feat. Lil Baby)</td>\n",
       "      <td>1243</td>\n",
       "      <td>2024</td>\n",
       "      <td>8</td>\n",
       "      <td>29</td>\n",
       "    </tr>\n",
       "    <tr>\n",
       "      <th>1</th>\n",
       "      <td>2024-08-30 08:32:00</td>\n",
       "      <td>BNYX®</td>\n",
       "      <td>GO AGAIN (feat. Superheaven)</td>\n",
       "      <td>70794</td>\n",
       "      <td>2024</td>\n",
       "      <td>8</td>\n",
       "      <td>30</td>\n",
       "    </tr>\n",
       "    <tr>\n",
       "      <th>2</th>\n",
       "      <td>2024-08-30 08:38:00</td>\n",
       "      <td>Kendrick Lamar</td>\n",
       "      <td>Not Like Us</td>\n",
       "      <td>274192</td>\n",
       "      <td>2024</td>\n",
       "      <td>8</td>\n",
       "      <td>30</td>\n",
       "    </tr>\n",
       "    <tr>\n",
       "      <th>3</th>\n",
       "      <td>2024-08-30 08:41:00</td>\n",
       "      <td>Kendrick Lamar</td>\n",
       "      <td>A.D.H.D</td>\n",
       "      <td>215509</td>\n",
       "      <td>2024</td>\n",
       "      <td>8</td>\n",
       "      <td>30</td>\n",
       "    </tr>\n",
       "    <tr>\n",
       "      <th>4</th>\n",
       "      <td>2024-08-30 08:45:00</td>\n",
       "      <td>The Weeknd</td>\n",
       "      <td>Pray For Me</td>\n",
       "      <td>211420</td>\n",
       "      <td>2024</td>\n",
       "      <td>8</td>\n",
       "      <td>30</td>\n",
       "    </tr>\n",
       "    <tr>\n",
       "      <th>...</th>\n",
       "      <td>...</td>\n",
       "      <td>...</td>\n",
       "      <td>...</td>\n",
       "      <td>...</td>\n",
       "      <td>...</td>\n",
       "      <td>...</td>\n",
       "      <td>...</td>\n",
       "    </tr>\n",
       "    <tr>\n",
       "      <th>30441</th>\n",
       "      <td>2025-08-28 17:56:00</td>\n",
       "      <td>The Weeknd</td>\n",
       "      <td>Gasoline</td>\n",
       "      <td>212165</td>\n",
       "      <td>2025</td>\n",
       "      <td>8</td>\n",
       "      <td>28</td>\n",
       "    </tr>\n",
       "    <tr>\n",
       "      <th>30442</th>\n",
       "      <td>2025-08-28 18:00:00</td>\n",
       "      <td>The Weeknd</td>\n",
       "      <td>Die For You</td>\n",
       "      <td>248936</td>\n",
       "      <td>2025</td>\n",
       "      <td>8</td>\n",
       "      <td>28</td>\n",
       "    </tr>\n",
       "    <tr>\n",
       "      <th>30443</th>\n",
       "      <td>2025-08-28 18:00:00</td>\n",
       "      <td>Travis Scott</td>\n",
       "      <td>K-POP</td>\n",
       "      <td>4689</td>\n",
       "      <td>2025</td>\n",
       "      <td>8</td>\n",
       "      <td>28</td>\n",
       "    </tr>\n",
       "    <tr>\n",
       "      <th>30444</th>\n",
       "      <td>2025-08-28 18:03:00</td>\n",
       "      <td>Post Malone</td>\n",
       "      <td>One Right Now (with The Weeknd)</td>\n",
       "      <td>193506</td>\n",
       "      <td>2025</td>\n",
       "      <td>8</td>\n",
       "      <td>28</td>\n",
       "    </tr>\n",
       "    <tr>\n",
       "      <th>30445</th>\n",
       "      <td>2025-08-28 18:08:00</td>\n",
       "      <td>The Weeknd</td>\n",
       "      <td>Wicked Games</td>\n",
       "      <td>323746</td>\n",
       "      <td>2025</td>\n",
       "      <td>8</td>\n",
       "      <td>28</td>\n",
       "    </tr>\n",
       "  </tbody>\n",
       "</table>\n",
       "<p>30446 rows × 7 columns</p>\n",
       "</div>"
      ]
     },
     "execution_count": 10,
     "metadata": {},
     "output_type": "execute_result"
    }
   ],
   "execution_count": 10
  },
  {
   "metadata": {
    "ExecuteTime": {
     "end_time": "2025-09-02T13:01:03.533557Z",
     "start_time": "2025-09-02T13:01:03.492851Z"
    }
   },
   "cell_type": "code",
   "source": [
    "spotify_data['year'] = pd.to_numeric(spotify_data['year'])\n",
    "\n",
    "spotify25 = spotify_data[spotify_data['year'] == 2025]\n",
    "\n",
    "spotify25.groupby('artistName')['msPlayed'].sum().sort_values(ascending=False)\n"
   ],
   "id": "4d7afe5ffd615651",
   "outputs": [
    {
     "data": {
      "text/plain": [
       "artistName\n",
       "Drake                 191233716\n",
       "Tyler, The Creator    186004075\n",
       "Playboi Carti         126586961\n",
       "The Weeknd            115178919\n",
       "PARTYNEXTDOOR         104702018\n",
       "                        ...    \n",
       "Glokk40Spaz                   0\n",
       "Honest                        0\n",
       "Iyeoka                        0\n",
       "Sparklmami                    0\n",
       "T-Shyne                       0\n",
       "Name: msPlayed, Length: 1204, dtype: int64"
      ]
     },
     "execution_count": 11,
     "metadata": {},
     "output_type": "execute_result"
    }
   ],
   "execution_count": 11
  },
  {
   "metadata": {
    "ExecuteTime": {
     "end_time": "2025-09-02T13:01:04.026687Z",
     "start_time": "2025-09-02T13:01:04.009980Z"
    }
   },
   "cell_type": "code",
   "source": "spotify25.groupby('month')['msPlayed'].sum().sort_values(ascending=False)",
   "id": "e418e56810a691b3",
   "outputs": [
    {
     "data": {
      "text/plain": [
       "month\n",
       "8    672854297\n",
       "7    582538130\n",
       "4    433083080\n",
       "5    375207298\n",
       "3    373453824\n",
       "6    368260764\n",
       "2    297233402\n",
       "1    286014823\n",
       "Name: msPlayed, dtype: int64"
      ]
     },
     "execution_count": 12,
     "metadata": {},
     "output_type": "execute_result"
    }
   ],
   "execution_count": 12
  },
  {
   "metadata": {
    "ExecuteTime": {
     "end_time": "2025-09-02T13:01:04.831446Z",
     "start_time": "2025-09-02T13:01:04.824187Z"
    }
   },
   "cell_type": "code",
   "source": "",
   "id": "bdbca034becfd3f9",
   "outputs": [],
   "execution_count": null
  },
  {
   "metadata": {
    "ExecuteTime": {
     "end_time": "2025-09-02T13:01:05.436293Z",
     "start_time": "2025-09-02T13:01:05.399359Z"
    }
   },
   "cell_type": "code",
   "source": "artist_yearly = spotify_data.groupby(['artistName','year'])['msPlayed'].sum().reset_index()\n",
   "id": "8e441122dbb31c42",
   "outputs": [],
   "execution_count": 13
  },
  {
   "metadata": {
    "ExecuteTime": {
     "end_time": "2025-09-02T13:01:05.798262Z",
     "start_time": "2025-09-02T13:01:05.745129Z"
    }
   },
   "cell_type": "code",
   "source": "artist_pivot = artist_yearly.pivot(index='artistName', columns='year', values='msPlayed').fillna(0)\n",
   "id": "6038dc165a572875",
   "outputs": [],
   "execution_count": 14
  },
  {
   "metadata": {
    "ExecuteTime": {
     "end_time": "2025-09-02T13:01:21.092185Z",
     "start_time": "2025-09-02T13:01:05.981558Z"
    }
   },
   "cell_type": "code",
   "source": [
    "from sklearn.linear_model import LinearRegression\n",
    "import numpy as np\n",
    "\n",
    "available_years = sorted(artist_pivot.columns)\n",
    "\n",
    "predictions = {}\n",
    "\n",
    "for artist in artist_pivot.index:\n",
    "    y = artist_pivot.loc[artist, available_years].values\n",
    "    X = np.array(available_years).reshape(-1, 1)\n",
    "\n",
    "    if len(y) > 1:\n",
    "        model = LinearRegression().fit(X, y)\n",
    "        predictions[artist] = model.predict(np.array([[2026]]))[0]\n",
    "    else:\n",
    "        predictions[artist] = y[0]\n",
    "\n",
    "top_10_artists_2026 = sorted(predictions.items(), key=lambda x: x[1], reverse=True)[:10]\n",
    "\n",
    "print(top_10_artists_2026)\n"
   ],
   "id": "64b77d1668b054b",
   "outputs": [
    {
     "name": "stdout",
     "output_type": "stream",
     "text": [
      "[('Drake', np.float64(343502290.0)), ('Playboi Carti', np.float64(249524725.0)), ('PARTYNEXTDOOR', np.float64(209399482.0)), ('The Weeknd', np.float64(200961973.0)), ('Tyler, The Creator', np.float64(199756924.0)), ('Yeat', np.float64(143957015.0)), ('The Strokes', np.float64(127281747.0)), ('TV Girl', np.float64(92364711.0)), ('Cigarettes After Sex', np.float64(88671504.0)), ('Don Toliver', np.float64(83453596.0))]\n"
     ]
    }
   ],
   "execution_count": 15
  }
 ],
 "metadata": {
  "kernelspec": {
   "display_name": "Python 3",
   "language": "python",
   "name": "python3"
  },
  "language_info": {
   "codemirror_mode": {
    "name": "ipython",
    "version": 2
   },
   "file_extension": ".py",
   "mimetype": "text/x-python",
   "name": "python",
   "nbconvert_exporter": "python",
   "pygments_lexer": "ipython2",
   "version": "2.7.6"
  }
 },
 "nbformat": 4,
 "nbformat_minor": 5
}
